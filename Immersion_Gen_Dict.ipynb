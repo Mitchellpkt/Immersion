{
 "cells": [
  {
   "cell_type": "markdown",
   "metadata": {},
   "source": [
    "# Immersion dictionary generation\n",
    "2018.05 mitchellpkt@protonmail.com\n",
    "\n",
    "**Generation of {English text} to {IPA symbols} dictionary.**\n",
    "\n",
    "Imports the dictionary specified by variable `DictStr`, then uses mphilli's `eng_to_ipa` to convert to IPA using the CMU database.\n",
    "\n",
    "Part of a project for in-browser English-to-IPA conversion, for practicing IPA by written immersion... In the process, I added multi-OS support to `eng_to_ipa`, merged in here: https://github.com/mphilli/English-to-IPA/pull/4\n",
    "\n",
    "The output json files can be loaded into FoxReplace extension en masse using import from file or URL."
   ]
  },
  {
   "cell_type": "markdown",
   "metadata": {},
   "source": [
    "## Import IPA module"
   ]
  },
  {
   "cell_type": "code",
   "execution_count": 1,
   "metadata": {},
   "outputs": [],
   "source": [
    "import sys\n",
    "import os \n",
    "basepath = os.getcwd();\n",
    "sys.path.insert(0,  os.path.join(basepath, \"English-to-IPA-master\"));\n",
    "sys.path.insert(0,  os.path.join(basepath, \"English-to-IPA-master\",\"eng_to_ipa\"));\n",
    "sys.path.insert(0,  os.path.join(basepath, \"English-to-IPA-master\",\"eng_to_ipa\",\"resources\"));\n",
    "\n",
    "# use eng_to_ipa by mphilli for text-to-symbol conversion\n",
    "# https://github.com/mphilli/English-to-IPA\n",
    "import eng_to_ipa as ipa"
   ]
  },
  {
   "cell_type": "markdown",
   "metadata": {},
   "source": [
    "## Test IPA module"
   ]
  },
  {
   "cell_type": "code",
   "execution_count": 2,
   "metadata": {},
   "outputs": [
    {
     "data": {
      "text/plain": [
       "'ˌɪˈmərʒən: ɪf ðə ˈaʊtˌpʊt kənˈtenz ðɪs strɪŋ ɪn ipa*, ðɛn eng_to_ipa* ɪz kərˈɛktli kənˈfɪgjərd'"
      ]
     },
     "execution_count": 2,
     "metadata": {},
     "output_type": "execute_result"
    }
   ],
   "source": [
    "ipa.convert(\"Immersion: If the output contains this string in IPA, then eng_to_ipa is correctly configured\")"
   ]
  },
  {
   "cell_type": "markdown",
   "metadata": {},
   "source": [
    "## Import English dictionary"
   ]
  },
  {
   "cell_type": "code",
   "execution_count": 3,
   "metadata": {},
   "outputs": [],
   "source": [
    "DictStr = \"top1e5\"\n",
    "# options: \n",
    "#     \"top1e5\" = top 10k English words from Google\n",
    "#     \"pbs\" = Public Brand Software dictionary, ~1e6 words... \n",
    "#     \"CMU_dict\" = extracted back from CMU IPA dictionary. ~1.3e6 words\n",
    "\n",
    "EngDictFile = open(os.path.join(\"Wordlists\",DictStr+'.txt'), 'r'); # open dictionary\n",
    "EngDict = EngDictFile.read();\n",
    "EngDictWords = EngDict.split()"
   ]
  },
  {
   "cell_type": "markdown",
   "metadata": {},
   "source": [
    "## Use eng_to_ipa to store the IPA symbols\n",
    "\n",
    "Beware, for large dictionaries this can take on the order of 10 minutes. Set qVerbose=1 for intermittent feedback."
   ]
  },
  {
   "cell_type": "code",
   "execution_count": 4,
   "metadata": {},
   "outputs": [
    {
     "name": "stdout",
     "output_type": "stream",
     "text": [
      "0 %\n",
      "10 %\n",
      "20 %\n",
      "30 %\n",
      "40 %\n",
      "51 %\n",
      "61 %\n",
      "71 %\n",
      "81 %\n",
      "91 %\n"
     ]
    }
   ],
   "source": [
    "qVerbose = 1; # [0 or 1 ... gives word-by-word translation in loop... only for subsets]\n",
    "\n",
    "e2iDict = [];\n",
    "counter = 0;\n",
    "for word_Eng in EngDictWords:\n",
    "    word_IPA = ipa.convert(word_Eng);\n",
    "    e2iDict.append([word_Eng, word_IPA]);\n",
    "    if qVerbose:\n",
    "        if (counter % 1000)==0:\n",
    "            print(str(round(counter/len(EngDictWords)*100))+\" %\");\n",
    "    if qVerbose > 1:\n",
    "        print(word_Eng+\" --> \"+word_IPA);\n",
    "    \n",
    "    counter += 1;"
   ]
  },
  {
   "cell_type": "markdown",
   "metadata": {},
   "source": [
    "## Review dictionary (iff qVerbose == 1)"
   ]
  },
  {
   "cell_type": "code",
   "execution_count": 5,
   "metadata": {},
   "outputs": [],
   "source": [
    "qVerbose = 0; # [0 or 1 ... gives word-by-word translation in loop... Do not run on 1e6 words!\n",
    "\n",
    "if qVerbose:\n",
    "    from pprint import pprint\n",
    "    pprint(e2iDict);"
   ]
  },
  {
   "cell_type": "markdown",
   "metadata": {},
   "source": [
    "## Export dictionary for use with browser plug-in, etc"
   ]
  },
  {
   "cell_type": "markdown",
   "metadata": {},
   "source": [
    "FoxReplace-style .json\n",
    "\n",
    "Two variations:\n",
    "-      IPA alone ... e.g. ˌɪˈmərʒən\n",
    "-      Eng/IPA ... e.g. ˌɪˈmərʒən (immersion)"
   ]
  },
  {
   "cell_type": "markdown",
   "metadata": {},
   "source": [
    "### IPA alone"
   ]
  },
  {
   "cell_type": "code",
   "execution_count": 6,
   "metadata": {},
   "outputs": [
    {
     "name": "stdout",
     "output_type": "stream",
     "text": [
      "10 %\n",
      "20 %\n",
      "30 %\n",
      "40 %\n",
      "51 %\n",
      "61 %\n",
      "71 %\n",
      "81 %\n",
      "91 %\n"
     ]
    }
   ],
   "source": [
    "qVerbose = 1;\n",
    "fileIPA = open(\"IPA_only_\"+DictStr+\".json\",\"w\");\n",
    "headerstring = \"{\\\"version\\\": \\\"2.1\\\",\\\"groups\\\": [{\\\"name\\\": \\\"\\\",\\\"urls\\\": [],\\\"substitutions\\\": [\";\n",
    "tailstring = \"],\\\"html\\\": \\\"output\\\",\\\"enabled\\\": true,\\\"mode\\\": \\\"auto&manual\\\"}]}\";\n",
    "fileIPA.write(headerstring);\n",
    "\n",
    "count = 0;\n",
    "for wordpair in e2iDict:\n",
    "    fileIPA.write(\"\\n{\\n\");\n",
    "    fileIPA.write(\"\\\"input\\\": \\\"\"+wordpair[0]+\"\\\",\\n\");\n",
    "    fileIPA.write(\"\\\"inputType\\\": \\\"wholewords\\\",\\n\");\n",
    "    fileIPA.write(\"\\\"output\\\": \\\"\"+wordpair[1]+\"\\\",\\n\");\n",
    "    fileIPA.write(\"\\\"caseSensitive\\\": false\\n}\");\n",
    "    count+=1;\n",
    "    if count < (len(e2iDict)):\n",
    "        fileIPA.write(\",\")\n",
    "        \n",
    "    if qVerbose:\n",
    "        if (count % 1000)==0:\n",
    "            print(str(round(count/len(e2iDict)*100))+\" %\");\n",
    "    \n",
    "fileIPA.write(tailstring)\n",
    "fileIPA.close();\n"
   ]
  },
  {
   "cell_type": "markdown",
   "metadata": {},
   "source": [
    "### IPA (Eng)"
   ]
  },
  {
   "cell_type": "code",
   "execution_count": 7,
   "metadata": {},
   "outputs": [
    {
     "name": "stdout",
     "output_type": "stream",
     "text": [
      "10 %\n",
      "20 %\n",
      "30 %\n",
      "40 %\n",
      "51 %\n",
      "61 %\n",
      "71 %\n",
      "81 %\n",
      "91 %\n"
     ]
    }
   ],
   "source": [
    "fileIPA_ENG = open(\"IPA_ENG_\"+DictStr+\".json\",\"w\");\n",
    "headerstring = \"{\\\"version\\\": \\\"2.1\\\",\\\"groups\\\": [{\\\"name\\\": \\\"\\\",\\\"urls\\\": [],\\\"substitutions\\\": [\";\n",
    "tailstring = \"],\\\"html\\\": \\\"inputoutput\\\",\\\"enabled\\\": true,\\\"mode\\\": \\\"auto&manual\\\"}]}\";\n",
    "fileIPA_ENG.write(headerstring);\n",
    "\n",
    "count = 0;\n",
    "for wordpair in e2iDict:\n",
    "    fileIPA_ENG.write(\"\\n{\\n\");\n",
    "    fileIPA_ENG.write(\"\\\"input\\\": \\\"\"+wordpair[0]+\"\\\",\\n\");\n",
    "    fileIPA_ENG.write(\"\\\"inputType\\\": \\\"text\\\",\\n\");\n",
    "    fileIPA_ENG.write(\"\\\"output\\\": \\\"\"+wordpair[1]+\" (\"+wordpair[0]+\")\"+\"\\\",\\n\");\n",
    "    fileIPA_ENG.write(\"\\\"caseSensitive\\\": false\\n}\");\n",
    "    count+=1;\n",
    "    if count < (len(e2iDict)):\n",
    "        fileIPA_ENG.write(\",\")\n",
    "        \n",
    "    if qVerbose:\n",
    "        if (count % 1000)==0:\n",
    "            print(str(round(count/len(e2iDict)*100))+\" %\");\n",
    "    \n",
    "fileIPA_ENG.write(tailstring)\n",
    "fileIPA_ENG.close();\n"
   ]
  },
  {
   "cell_type": "code",
   "execution_count": 8,
   "metadata": {},
   "outputs": [
    {
     "data": {
      "text/plain": [
       "'ˌɪˈmərʒən ˈdɪkʃəˌnɛri ˌʤɛnərˈeʃən kəmˈplit'"
      ]
     },
     "execution_count": 8,
     "metadata": {},
     "output_type": "execute_result"
    }
   ],
   "source": [
    "ipa.convert('Immersion dictionary generation complete')"
   ]
  }
 ],
 "metadata": {
  "kernelspec": {
   "display_name": "Python 3",
   "language": "python",
   "name": "python3"
  },
  "language_info": {
   "codemirror_mode": {
    "name": "ipython",
    "version": 3
   },
   "file_extension": ".py",
   "mimetype": "text/x-python",
   "name": "python",
   "nbconvert_exporter": "python",
   "pygments_lexer": "ipython3",
   "version": "3.6.4"
  }
 },
 "nbformat": 4,
 "nbformat_minor": 2
}
